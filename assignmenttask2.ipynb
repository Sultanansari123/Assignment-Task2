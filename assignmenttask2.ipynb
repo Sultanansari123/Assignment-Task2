{
 "cells": [
  {
   "cell_type": "code",
   "execution_count": 23,
   "id": "fdeda8ca-da51-4a3a-9447-6b4b7853c55c",
   "metadata": {},
   "outputs": [],
   "source": [
    "#Ans1-\n",
    "l,u,p,d=0,0,0,0\n",
    "s=\"suTA123@$_\"\n",
    "ua=\"ABCDEFGHIJKLMNOPQRTUVWXYZ\"\n",
    "la=\"abcdefghijklmnopqrstuvwxyz\"\n",
    "sc=\"$@_\"\n",
    "dig=\"123456789\"\n"
   ]
  },
  {
   "cell_type": "code",
   "execution_count": 24,
   "id": "2669c878-4a35-4392-b545-81e0b2cfdf43",
   "metadata": {},
   "outputs": [
    {
     "name": "stdout",
     "output_type": "stream",
     "text": [
      "valid password\n"
     ]
    }
   ],
   "source": [
    "if len(s)==10:\n",
    "    for i in s:\n",
    "        #counting lower alphabet\n",
    "        if i in la:\n",
    "            l+=1\n",
    "        #counting upper alphabet\n",
    "        if i in ua:\n",
    "            u+=1\n",
    "            \n",
    "        #counting digit\n",
    "        if i in dig:\n",
    "            d+=1\n",
    "        #counting the special character\n",
    "        if i in sc:\n",
    "            p+=1\n",
    "if(l>=2 and u>=2 and p==3 and d>=1 and l+p+u+d==len(s)):\n",
    "    print(\"valid password\")\n",
    "else:\n",
    "    print(\"invalid password\")\n",
    "            \n",
    "   "
   ]
  },
  {
   "cell_type": "code",
   "execution_count": 41,
   "id": "a600dedf-1303-462a-9e55-a509028322f4",
   "metadata": {},
   "outputs": [
    {
     "name": "stdout",
     "output_type": "stream",
     "text": [
      "True\n",
      "True\n"
     ]
    }
   ],
   "source": [
    "#Ans2-\n",
    "#a-\n",
    "text=\"hello my friend\"\n",
    "x=text.startswith(\"hello\")\n",
    "y=text.startswith(\"fri\",9,15)\n",
    "print(y)\n",
    "print(x)"
   ]
  },
  {
   "cell_type": "code",
   "execution_count": 43,
   "id": "0f5beb95-b51f-4f63-9a23-cb42039bc03b",
   "metadata": {},
   "outputs": [
    {
     "name": "stdout",
     "output_type": "stream",
     "text": [
      "True\n",
      "True\n",
      "True\n",
      "False\n",
      "False\n",
      "False\n"
     ]
    }
   ],
   "source": [
    "#b-\n",
    "a=\"12345\"\n",
    "b=\"\\u0030\"\n",
    "c=\"\\u00B2\"\n",
    "d=\"10km\"\n",
    "e=\"-1\"\n",
    "f=\"1.5\"\n",
    "print(a.isnumeric())\n",
    "print(b.isnumeric())\n",
    "print(c.isnumeric())\n",
    "print(d.isnumeric())\n",
    "print(e.isnumeric())\n",
    "print(f.isnumeric())"
   ]
  },
  {
   "cell_type": "code",
   "execution_count": 50,
   "id": "9ffd0fb3-4999-4430-820f-eb01738395ad",
   "metadata": {},
   "outputs": [],
   "source": [
    "def Sort_tuple(t):\n",
    "    t.sort(key=lambda x:x[1])\n",
    "    return t\n"
   ]
  },
  {
   "cell_type": "code",
   "execution_count": 52,
   "id": "06d327a0-c3de-44be-bea6-d300ca21b72b",
   "metadata": {},
   "outputs": [
    {
     "data": {
      "text/plain": [
       "[('orange', 80), ('mango', 99), ('grapes', 1000)]"
      ]
     },
     "execution_count": 52,
     "metadata": {},
     "output_type": "execute_result"
    }
   ],
   "source": [
    "tup=[('mango',99),('orange',80),('grapes',1000)]\n",
    "Sort_tuple(tup)"
   ]
  },
  {
   "cell_type": "code",
   "execution_count": 67,
   "id": "1c36938f-d6b1-4a56-b87c-421eae14b3b0",
   "metadata": {},
   "outputs": [],
   "source": [
    "#c-\n",
    "l=[i for i in range(1,11)]\n",
    "square_root=(map(lambda x:x**2,l))\n"
   ]
  },
  {
   "cell_type": "code",
   "execution_count": 68,
   "id": "967bc205-fae4-4579-b140-5549e1a33ab8",
   "metadata": {},
   "outputs": [
    {
     "name": "stdout",
     "output_type": "stream",
     "text": [
      "[1, 4, 9, 16, 25, 36, 49, 64, 81, 100]\n"
     ]
    }
   ],
   "source": [
    "print(list(square_root))"
   ]
  },
  {
   "cell_type": "code",
   "execution_count": 80,
   "id": "359134d2-77f9-4f46-9890-6a1197431ae1",
   "metadata": {},
   "outputs": [],
   "source": [
    "#d-\n",
    "l=[1,2,3,4,5,6,7,8,9,10]\n",
    "def cube_root(x):\n",
    "    return x**3\n",
    "cube=list(map(cube_root,l))"
   ]
  },
  {
   "cell_type": "code",
   "execution_count": 81,
   "id": "ce943af4-5cf9-4957-b7ac-a4f3f72327e0",
   "metadata": {},
   "outputs": [
    {
     "name": "stdout",
     "output_type": "stream",
     "text": [
      "[1, 8, 27, 64, 125, 216, 343, 512, 729, 1000]\n"
     ]
    }
   ],
   "source": [
    "print(cube)"
   ]
  },
  {
   "cell_type": "code",
   "execution_count": 86,
   "id": "8ec794c4-de10-452d-976c-daf77125ea7d",
   "metadata": {},
   "outputs": [
    {
     "name": "stdin",
     "output_type": "stream",
     "text": [
      "please enter a number 14\n"
     ]
    },
    {
     "name": "stdout",
     "output_type": "stream",
     "text": [
      "even number\n"
     ]
    }
   ],
   "source": [
    "#e-\n",
    "n=int(input(\"please enter a number\"))\n",
    "def even_or_not(n):\n",
    "    if n%2==0:\n",
    "        print(\"even number\")\n",
    "    else:\n",
    "        print(\"not even number\")\n",
    "even_or_not(n)\n"
   ]
  },
  {
   "cell_type": "code",
   "execution_count": 88,
   "id": "1ae466cf-20e0-4461-8407-1ff0158a9395",
   "metadata": {},
   "outputs": [
    {
     "name": "stdout",
     "output_type": "stream",
     "text": [
      "[1, 3, 5, 7, 9]\n"
     ]
    }
   ],
   "source": [
    "#f-\n",
    "l=[1,2,3,4,5,6,7,8,9,10]\n",
    "#method-1\n",
    "def odd(x):\n",
    "    return x%2==1\n",
    "result=list(filter(odd,l))\n",
    "print(result)"
   ]
  },
  {
   "cell_type": "code",
   "execution_count": 89,
   "id": "bdac3a02-1381-468b-bb7e-988e29671a5f",
   "metadata": {},
   "outputs": [
    {
     "name": "stdout",
     "output_type": "stream",
     "text": [
      "[1, 3, 5, 7, 9]\n"
     ]
    }
   ],
   "source": [
    "#method2-\n",
    "l=[1,2,3,4,5,6,7,8,9,10]\n",
    "res=list(filter(lambda x:x%2==1,l))\n",
    "print(res)"
   ]
  },
  {
   "cell_type": "code",
   "execution_count": 90,
   "id": "0aba056c-f8c1-41b7-b57a-2735bf809d67",
   "metadata": {},
   "outputs": [],
   "source": [
    "#my logic\n",
    "l=[1,2,3,4,5,6,7,8,9,10]\n",
    "l1=[]\n",
    "def odd(l):\n",
    "    for i in l:\n",
    "        if i%2==1:\n",
    "            l1.append(i)\n",
    "    return l1"
   ]
  },
  {
   "cell_type": "code",
   "execution_count": 91,
   "id": "0e019cdd-224d-4c56-aa1f-57ee9b01198f",
   "metadata": {},
   "outputs": [
    {
     "name": "stdout",
     "output_type": "stream",
     "text": [
      "[1, 3, 5, 7, 9]\n"
     ]
    }
   ],
   "source": [
    "print(odd(l))"
   ]
  },
  {
   "cell_type": "code",
   "execution_count": 92,
   "id": "45152257-68ce-4bc7-90df-3986e94ce652",
   "metadata": {},
   "outputs": [
    {
     "ename": "NameError",
     "evalue": "name 'l2' is not defined",
     "output_type": "error",
     "traceback": [
      "\u001b[0;31m---------------------------------------------------------------------------\u001b[0m",
      "\u001b[0;31mNameError\u001b[0m                                 Traceback (most recent call last)",
      "Cell \u001b[0;32mIn[92], line 3\u001b[0m\n\u001b[1;32m      1\u001b[0m l\u001b[38;5;241m=\u001b[39m[\u001b[38;5;241m1\u001b[39m,\u001b[38;5;241m2\u001b[39m,\u001b[38;5;241m3\u001b[39m,\u001b[38;5;241m4\u001b[39m,\u001b[38;5;241m5\u001b[39m,\u001b[38;5;241m6\u001b[39m,\u001b[38;5;241m-\u001b[39m\u001b[38;5;241m1\u001b[39m,\u001b[38;5;241m-\u001b[39m\u001b[38;5;241m2\u001b[39m,\u001b[38;5;241m-\u001b[39m\u001b[38;5;241m3\u001b[39m,\u001b[38;5;241m-\u001b[39m\u001b[38;5;241m4\u001b[39m,\u001b[38;5;241m-\u001b[39m\u001b[38;5;241m5\u001b[39m,\u001b[38;5;241m0\u001b[39m]\n\u001b[1;32m      2\u001b[0m l1\u001b[38;5;241m=\u001b[39m[]\n\u001b[0;32m----> 3\u001b[0m \u001b[43ml2\u001b[49m\u001b[38;5;241m-\u001b[39m[]\n\u001b[1;32m      4\u001b[0m \u001b[38;5;28;01mfor\u001b[39;00m i \u001b[38;5;129;01min\u001b[39;00m l:\n\u001b[1;32m      5\u001b[0m     \u001b[38;5;28;01mif\u001b[39;00m i\u001b[38;5;241m>\u001b[39m\u001b[38;5;241m0\u001b[39m:\n",
      "\u001b[0;31mNameError\u001b[0m: name 'l2' is not defined"
     ]
    }
   ],
   "source": [
    "l=[1,2,3,4,5,6,-1,-2,-3,-4,-5,0]\n",
    "l1=[]\n",
    "l2-[]\n",
    "for i in l:\n",
    "    if i>0:\n",
    "        l1.append(i)\n",
    "    else:\n",
    "        l2.append(i)\n",
    "print(l1,l2)\n",
    "\n",
    "        "
   ]
  },
  {
   "cell_type": "code",
   "execution_count": null,
   "id": "27be6c0a-f8fa-40ce-8961-f103a84b3994",
   "metadata": {},
   "outputs": [],
   "source": []
  }
 ],
 "metadata": {
  "kernelspec": {
   "display_name": "Python 3 (ipykernel)",
   "language": "python",
   "name": "python3"
  },
  "language_info": {
   "codemirror_mode": {
    "name": "ipython",
    "version": 3
   },
   "file_extension": ".py",
   "mimetype": "text/x-python",
   "name": "python",
   "nbconvert_exporter": "python",
   "pygments_lexer": "ipython3",
   "version": "3.10.8"
  }
 },
 "nbformat": 4,
 "nbformat_minor": 5
}
